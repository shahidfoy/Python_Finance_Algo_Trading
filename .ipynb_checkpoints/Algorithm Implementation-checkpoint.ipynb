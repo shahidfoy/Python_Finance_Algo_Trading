{
 "cells": [
  {
   "cell_type": "markdown",
   "metadata": {},
   "source": [
    "# Quantitative Trading Analytics"
   ]
  },
  {
   "cell_type": "code",
   "execution_count": null,
   "metadata": {},
   "outputs": [],
   "source": [
    "import numpy as np\n",
    "import pandas as pd\n",
    "import plotly.graph_objs as go"
   ]
  },
  {
   "cell_type": "code",
   "execution_count": null,
   "metadata": {},
   "outputs": [],
   "source": [
    "from pandas_datareader import data, wb\n",
    "from datetime import date"
   ]
  },
  {
   "cell_type": "code",
   "execution_count": null,
   "metadata": {},
   "outputs": [],
   "source": [
    "start = pd.to_datetime('2018-01-01')\n",
    "end = pd.to_datetime('2020-06-01')"
   ]
  },
  {
   "cell_type": "code",
   "execution_count": null,
   "metadata": {},
   "outputs": [],
   "source": [
    "# set tickers\n",
    "tickers = ['TWTR', 'NFLX', 'SNAP', 'UBER']\n",
    "\n",
    "# get length of list\n",
    "length = len(tickers)\n",
    "i = 0\n",
    "\n",
    "# iterate tickers\n",
    "while i < length:\n",
    "    print(tickers[i] + ' is uploading data')\n",
    "    # create variable in which each dataframe will be stored\n",
    "    locals()[str(tickers[i]) + \"_data\"] = data.DataReader(tickers[i], 'yahoo', start=start, end=end)\n",
    "    # create CSV file in to store each dataframe to keep track of change overtime\n",
    "    locals()[str(tickers[i]) + \"_data\"].to_csv(str(tickers[i]) + \"_data.\")\n",
    "    i += 1"
   ]
  },
  {
   "cell_type": "code",
   "execution_count": null,
   "metadata": {},
   "outputs": [],
   "source": []
  }
 ],
 "metadata": {
  "kernelspec": {
   "display_name": "Python 3",
   "language": "python",
   "name": "python3"
  },
  "language_info": {
   "codemirror_mode": {
    "name": "ipython",
    "version": 3
   },
   "file_extension": ".py",
   "mimetype": "text/x-python",
   "name": "python",
   "nbconvert_exporter": "python",
   "pygments_lexer": "ipython3",
   "version": "3.8.3"
  }
 },
 "nbformat": 4,
 "nbformat_minor": 4
}
